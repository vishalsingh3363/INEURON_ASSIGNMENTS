{
 "cells": [
  {
   "cell_type": "code",
   "execution_count": null,
   "id": "c8d927ea",
   "metadata": {},
   "outputs": [],
   "source": [
    "1. What is the concept of cyclical momentum?\n",
    "\n",
    "Ans-1 Momentum is a widely-used strategy for accelerating the convergence of gradient-based optimization techniques. \n",
    "Momentum was designed to speed up learning in directions of low curvature, without becoming unstable in directions of high curvature."
   ]
  },
  {
   "cell_type": "code",
   "execution_count": null,
   "id": "4a243929",
   "metadata": {},
   "outputs": [],
   "source": [
    "2. What callback keeps track of hyperparameter values (along with other data) during\n",
    "training?\n",
    "\n",
    "ans-2 The save_hyperparameters() method will save all the hyperparameters that are present in the object into a YAML file."
   ]
  },
  {
   "cell_type": "code",
   "execution_count": null,
   "id": "9845e2e7",
   "metadata": {},
   "outputs": [],
   "source": [
    "3. In the color dim plot, what does one column of pixels represent?\n",
    "\n",
    "Ans-3 In terms of coordinates, a pixel can be identified by a pair of integers giving the column number and the row number. \n",
    "For example, the pixel with coordinates (3,5) would lie in column number 3 and row number 5. \n",
    "Conventionally, columns are numbered from left to right, starting with zero."
   ]
  },
  {
   "cell_type": "code",
   "execution_count": null,
   "id": "9813ef92",
   "metadata": {},
   "outputs": [],
   "source": [
    "4. In color dim, what does 'poor teaching' look like? What is the reason for this?\n",
    "\n",
    "Ans-4 "
   ]
  },
  {
   "cell_type": "code",
   "execution_count": null,
   "id": "fd08ef43",
   "metadata": {},
   "outputs": [],
   "source": []
  },
  {
   "cell_type": "code",
   "execution_count": null,
   "id": "2e5fc9f9",
   "metadata": {},
   "outputs": [],
   "source": []
  },
  {
   "cell_type": "code",
   "execution_count": null,
   "id": "9ed1b931",
   "metadata": {},
   "outputs": [],
   "source": []
  }
 ],
 "metadata": {
  "kernelspec": {
   "display_name": "Python 3 (ipykernel)",
   "language": "python",
   "name": "python3"
  },
  "language_info": {
   "codemirror_mode": {
    "name": "ipython",
    "version": 3
   },
   "file_extension": ".py",
   "mimetype": "text/x-python",
   "name": "python",
   "nbconvert_exporter": "python",
   "pygments_lexer": "ipython3",
   "version": "3.9.12"
  }
 },
 "nbformat": 4,
 "nbformat_minor": 5
}
