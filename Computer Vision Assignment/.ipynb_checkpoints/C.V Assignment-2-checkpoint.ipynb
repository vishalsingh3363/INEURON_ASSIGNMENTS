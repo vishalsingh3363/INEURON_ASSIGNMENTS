{
 "cells": [
  {
   "cell_type": "code",
   "execution_count": null,
   "id": "4bf98186",
   "metadata": {},
   "outputs": [],
   "source": [
    "1. Explain convolutional neural network, and how does it work?\n",
    "\n",
    "Ans-1 A convolutional neural network (CNN or ConvNet) is a network architecture for deep learning that learns directly from data. CNNs are particularly useful for finding patterns in images to recognize objects, classes, and categories."
   ]
  },
  {
   "cell_type": "code",
   "execution_count": null,
   "id": "04f85f51",
   "metadata": {},
   "outputs": [],
   "source": [
    "2. How does refactoring parts of your neural network definition favor you?\n",
    "\n",
    "Ans-2 Refactoring is the process of restructuring code, while not changing its original functionality. The goal of refactoring is to improve internal code by making many small changes without altering the code's external behavior.\n"
   ]
  },
  {
   "cell_type": "code",
   "execution_count": null,
   "id": "a45f685c",
   "metadata": {},
   "outputs": [],
   "source": [
    "3. What does it mean to flatten? Is it necessary to include it in the MNIST CNN? What is the reason\n",
    "for this?\n",
    "\n",
    "Ans-3 Flattening is used to convert all the resultant 2-Dimensional arrays from pooled feature maps into a single long continuous linear vector. The flattened matrix is fed as input to the fully connected layer to classify the image."
   ]
  },
  {
   "cell_type": "code",
   "execution_count": null,
   "id": "8155a089",
   "metadata": {},
   "outputs": [],
   "source": [
    "4. What exactly does NCHW stand for?\n",
    "\n",
    "Ans-4 What does NCHW stand for?\n",
    "NCHW stands for: batch N, channels C, depth D, height H, width W. It is a way to store multidimensional arrays / data frames / matrix into memory, which can be considered as a 1-D array."
   ]
  },
  {
   "cell_type": "code",
   "execution_count": null,
   "id": "9605742c",
   "metadata": {},
   "outputs": [],
   "source": [
    "5. Why are there 7*7*(1168-16) multiplications in the MNIST CNN?\n",
    "\n",
    "Ans-5 "
   ]
  },
  {
   "cell_type": "code",
   "execution_count": null,
   "id": "506c9bd4",
   "metadata": {},
   "outputs": [],
   "source": [
    "6.Explain definition of receptive field?\n",
    "\n",
    "Ans-6 The receptive field encompasses the sensory receptors that feed into sensory neurons and thus includes specific receptors on a neuron as well as collectives of receptors that are capable of activating a neuron via synaptic connections."
   ]
  },
  {
   "cell_type": "code",
   "execution_count": null,
   "id": "c81b9d28",
   "metadata": {},
   "outputs": [],
   "source": [
    "7. What is the scale of an activation receptive field after two stride-2 convolutions? What is the\n",
    "reason for this?\n",
    "\n",
    "Ans-7 Convolutions with a stride of two. This means that we take the element-wise product as usual in this upper left \\(3 \\times 3 \\) region, and then multiply and sum elements. That gives us \\(91 \\). But then instead of stepping the blue box over by one step, we're going to step it over by two steps."
   ]
  },
  {
   "cell_type": "code",
   "execution_count": null,
   "id": "495bc837",
   "metadata": {},
   "outputs": [],
   "source": [
    "8. What is the tensor representation of a color image?\n",
    "\n",
    "Ans-8 The RGB color image is seen as a 3rd-order tensor to exploit the spatial and interchannel correlation, so that blurring effects are captured more robustly."
   ]
  },
  {
   "cell_type": "code",
   "execution_count": null,
   "id": "d2800392",
   "metadata": {},
   "outputs": [],
   "source": [
    "9. How does a color input interact with a convolution?\n",
    "\n",
    "Ans-9 The first layer of a Convolutional Neural Network is always a Convolutional Layer. Convolutional layers apply a convolution operation to the input, passing the result to the next layer"
   ]
  }
 ],
 "metadata": {
  "kernelspec": {
   "display_name": "Python 3 (ipykernel)",
   "language": "python",
   "name": "python3"
  },
  "language_info": {
   "codemirror_mode": {
    "name": "ipython",
    "version": 3
   },
   "file_extension": ".py",
   "mimetype": "text/x-python",
   "name": "python",
   "nbconvert_exporter": "python",
   "pygments_lexer": "ipython3",
   "version": "3.9.12"
  }
 },
 "nbformat": 4,
 "nbformat_minor": 5
}
