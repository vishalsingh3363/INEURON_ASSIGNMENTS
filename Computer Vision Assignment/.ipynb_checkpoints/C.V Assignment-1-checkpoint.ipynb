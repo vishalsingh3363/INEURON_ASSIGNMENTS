{
 "cells": [
  {
   "cell_type": "code",
   "execution_count": null,
   "id": "7f3e384d",
   "metadata": {},
   "outputs": [],
   "source": [
    "1. What exactly is a feature?\n",
    "\n",
    "Ans-1 The input data remains in a tabular form consisting of rows (instances or observations) and columns (variable or attributes), \n",
    "and these attributes are often known as features."
   ]
  },
  {
   "cell_type": "code",
   "execution_count": null,
   "id": "94d31c3e",
   "metadata": {},
   "outputs": [],
   "source": [
    "2. For a top edge detector, write out the convolutional kernel matrix.\n",
    "\n",
    "Ans-2 Edges represents the object boundaries. \n",
    "So edge detection is a very important preprocessing step for any object detection or recognition process. \n",
    "Simple edge detection kernels are based on approximation of gradient images. \n",
    "Another advanced edge detection algorithms will discussed in details."
   ]
  },
  {
   "cell_type": "code",
   "execution_count": null,
   "id": "3f25ec3f",
   "metadata": {},
   "outputs": [],
   "source": [
    "3. Describe the mathematical operation that a 3x3 kernel performs on a single pixel in an image.\n",
    "\n",
    "Ans-3 Limiting the number of parameters, we are limiting the number of unrelated features possible. This forces Machine Learning algorithm to learn features common to different situations and so to generalize better. Hence common choice is to keep the kernel size at 3x3 "
   ]
  },
  {
   "cell_type": "code",
   "execution_count": null,
   "id": "3673f9b5",
   "metadata": {},
   "outputs": [],
   "source": [
    "4. What is the significance of a convolutional kernel added to a 3x3 matrix of zeroes?\n",
    "\n",
    "Ans-4 Convolution is using a 'kernel' to extract certain 'features' from an input image. "
   ]
  },
  {
   "cell_type": "code",
   "execution_count": null,
   "id": "d9e60684",
   "metadata": {},
   "outputs": [],
   "source": [
    "5. What exactly is padding?\n",
    "\n",
    "Ans-5 Padding is used to create space around an element's content, inside of any defined borders."
   ]
  },
  {
   "cell_type": "code",
   "execution_count": null,
   "id": "76104514",
   "metadata": {},
   "outputs": [],
   "source": [
    "6. What is the concept of stride?\n",
    "\n",
    "Ans-6 A stride is a long step which you take when you are walking or running.\n"
   ]
  },
  {
   "cell_type": "code",
   "execution_count": null,
   "id": "c7533bc5",
   "metadata": {},
   "outputs": [],
   "source": [
    "7. What are the shapes of PyTorch '2D convolution'  input and weight parameters?\n",
    "\n",
    "Ans-7 \n",
    "Steps\n",
    "1- Define the input tensor or read the input image. If an input is an image, then we first convert it into a torch tensor.\n",
    "2- Define in_channels, out_channels, kernel_size, and other parameters.\n",
    "3- Next define a convolution operation conv by passing the above-defined parameters to torch. nn. Conv2d()."
   ]
  },
  {
   "cell_type": "code",
   "execution_count": null,
   "id": "4ed16dea",
   "metadata": {},
   "outputs": [],
   "source": [
    "8. What exactly is a channel?\n",
    "\n",
    "Ans-8 In machine learning, neural networks perform image processing on multi-channeled images. Each channel represents a color, and each pixel consists of three channels. In a color image, there are three channels: red, green, and blue. "
   ]
  },
  {
   "cell_type": "code",
   "execution_count": null,
   "id": "4ae7b0bb",
   "metadata": {},
   "outputs": [],
   "source": [
    "9.Explain relationship between matrix multiplication and a convolution?\n",
    "\n",
    "Ans-9 convolutions can be mapped as matrix multiplication operations by flattening and rearranging the weights and input features. As illustrated in Figure 2, 64 × 3 kernels with a size of 3 × 3 are mapped to a rearranged matrix with dimensions of 64 × (3 × 3 × 3)."
   ]
  }
 ],
 "metadata": {
  "kernelspec": {
   "display_name": "Python 3 (ipykernel)",
   "language": "python",
   "name": "python3"
  },
  "language_info": {
   "codemirror_mode": {
    "name": "ipython",
    "version": 3
   },
   "file_extension": ".py",
   "mimetype": "text/x-python",
   "name": "python",
   "nbconvert_exporter": "python",
   "pygments_lexer": "ipython3",
   "version": "3.9.12"
  }
 },
 "nbformat": 4,
 "nbformat_minor": 5
}
