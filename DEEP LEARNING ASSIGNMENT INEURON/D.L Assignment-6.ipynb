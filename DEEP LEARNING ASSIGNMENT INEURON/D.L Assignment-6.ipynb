{
 "cells": [
  {
   "cell_type": "code",
   "execution_count": null,
   "id": "80022926",
   "metadata": {},
   "outputs": [],
   "source": [
    "1. What are the advantages of a CNN over a fully connected DNN for image classification?\n",
    "\n",
    "Ans-1 Fewer parameters -> faster to train\n",
    "Reuse kernel -> detect feature anywhere\n",
    "Architecture embeds knowledge of neighboring pixels\n",
    "\n",
    "Because consecutive layers are only partially connected and because it heavily reuses its weights, a CNN has many fewer parameters than a fully connected DNN, which makes it much faster to train, reduces the risk of overfitting, and requires much less training data.\n",
    "When a CNN has learned a kernel that can detect a particular feature, it can detect that feature anywhere on the image. In contrast, when a DNN learns a feature in one location, it can detect it only in that particular location. Since images typically have very repetitive features, CNNs are able to generalize much better than DNNs for image processing tasks such as classification, using fewer training examples.\n",
    "Finally, a DNN has no prior knowledge of how pixels are organized; it does not know that nearby pixels are close. A CNN architecture embeds this prior knowledge. Lower layers typically identify features in small areas of the images, while higher layers combine the lower-level features into larger features. This works well with most natural images, giving CNNs a decisive head start compared to DNNs."
   ]
  },
  {
   "cell_type": "code",
   "execution_count": null,
   "id": "85bc1355",
   "metadata": {},
   "outputs": [],
   "source": [
    "2. Consider a CNN composed of three convolutional layers, each with 3 × 3 kernels, a stride of 2, and \"same\" padding. The lowest layer outputs 100 feature maps, the middle one outputs\n",
    "200, and the top one outputs 400. The input images are RGB images of 200 × 300 pixels.\n",
    "What is the total number of parameters in the CNN? If we are using 32-bit floats, at least how much\n",
    "RAM will this network require when making a prediction for a single instance? What about when\n",
    "training on a mini-batch of 50 images?\n",
    "\n",
    "Ans-2"
   ]
  },
  {
   "cell_type": "code",
   "execution_count": null,
   "id": "8bb05bb7",
   "metadata": {},
   "outputs": [],
   "source": [
    "3. If your GPU runs out of memory while training a CNN, what are five things you could try to\n",
    "solve the problem?\n",
    "\n",
    "Ans-3 Reduce the mini-batch size.\n",
    "Reduce dimensionality using a larger stride in one or more layers.\n",
    "Remove one or more layers.\n",
    "Use 16-bit floats instead of 32-bit floats.\n",
    "Distribute the CNN across multiple devices."
   ]
  },
  {
   "cell_type": "code",
   "execution_count": null,
   "id": "964d3333",
   "metadata": {},
   "outputs": [],
   "source": [
    "4. Why would you want to add a max pooling layer rather than a convolutional layer with the\n",
    "same stride?\n",
    "\n",
    "Ans-4 A max pooling layer has no parameters at all, whereas a convolutional layer has a lot."
   ]
  },
  {
   "cell_type": "code",
   "execution_count": null,
   "id": "b2470703",
   "metadata": {},
   "outputs": [],
   "source": [
    "5. When would you want to add a local response normalization layer?\n",
    "\n",
    "Ans-5 This form of normalization makes the neurons that most strongly activate inhibit neurons at the same location but in neighboring feature maps (such competitive activation has been observed in biological neurons). This encourages different feature maps to specialize, pushing them apart and forcing them to explore a wider range of features, ultimately improving generalization.\n",
    "It is typically used in the lower layers to have a larger pool of low-level features that the upper layers can build upon."
   ]
  },
  {
   "cell_type": "code",
   "execution_count": null,
   "id": "8208d7ad",
   "metadata": {},
   "outputs": [],
   "source": [
    "6. Can you name the main innovations in AlexNet, compared to LeNet-5? What about the main\n",
    "innovations in GoogLeNet, ResNet, SENet, and Xception?\n",
    "\n",
    "Ans-6 The main innovations in AlexNet compared to LeNet-5 are (1) it is much larger and deeper, and (2) it stacks convolutional layers directly on top of each other, instead of stacking a pooling layer on top of each convolutional layer.\n",
    "The main innovation in GoogLeNet is the introduction of inception modules, which make it possible to have a much deeper net than previous CNN architectures, with fewer parameters.\n",
    "Finally, ResNet's main innovation is the introduction of skip connections, which make it possible to go well beyond 100 layers. Arguably, its simplicity and consistency are also rather innovative."
   ]
  },
  {
   "cell_type": "code",
   "execution_count": null,
   "id": "0d7d30a9",
   "metadata": {},
   "outputs": [],
   "source": [
    "7. What is a fully convolutional network? How can you convert a dense layer into a\n",
    "convolutional layer?\n",
    "\n",
    "Ans-7  FCN is a network that does not contain any “Dense” layers \n",
    "\n",
    "1. Python keras how to transform a dense layer into a convolutional layer.\n",
    "2. input dimensions to a one dimensional convolutional network in keras.\n",
    "3. Add dropout layers between pretrained dense layers in keras.\n",
    "4. Adding a variable into Keras/TensorFlow CNN dense layer."
   ]
  },
  {
   "cell_type": "code",
   "execution_count": null,
   "id": "c19c90dd",
   "metadata": {},
   "outputs": [],
   "source": [
    "8. What is the main technical difficulty of semantic segmentation?\n",
    "\n",
    "Ans-8 In semantic segmentation, our aim is to extract features before using them to separate the image into multiple segments. However, the issue with convolutional networks is that the size of the image is reduced as it passes through the network because of the max-pooling layers."
   ]
  },
  {
   "cell_type": "code",
   "execution_count": null,
   "id": "f02c0114",
   "metadata": {},
   "outputs": [],
   "source": [
    "9. Build your own CNN from scratch and try to achieve the highest possible accuracy on MNIST.\n",
    "\n",
    "Ans-9 98%"
   ]
  },
  {
   "cell_type": "code",
   "execution_count": null,
   "id": "5308025a",
   "metadata": {},
   "outputs": [],
   "source": []
  }
 ],
 "metadata": {
  "kernelspec": {
   "display_name": "Python 3 (ipykernel)",
   "language": "python",
   "name": "python3"
  },
  "language_info": {
   "codemirror_mode": {
    "name": "ipython",
    "version": 3
   },
   "file_extension": ".py",
   "mimetype": "text/x-python",
   "name": "python",
   "nbconvert_exporter": "python",
   "pygments_lexer": "ipython3",
   "version": "3.9.12"
  }
 },
 "nbformat": 4,
 "nbformat_minor": 5
}
