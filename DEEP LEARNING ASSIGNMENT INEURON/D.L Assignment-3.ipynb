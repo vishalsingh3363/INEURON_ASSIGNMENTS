{
 "cells": [
  {
   "cell_type": "code",
   "execution_count": null,
   "id": "7b7175ff",
   "metadata": {},
   "outputs": [],
   "source": [
    "1. Is it OK to initialize all the weights to the same value as long as that value is selected\n",
    "randomly using He initialization?\n",
    "\n",
    "Ans-1 Initializing all the weights to the same value leads the neurons to learn the same features during training. In fact, any constant initialization scheme will perform very poorly"
   ]
  },
  {
   "cell_type": "code",
   "execution_count": null,
   "id": "00ff612f",
   "metadata": {},
   "outputs": [],
   "source": [
    "2. Is it OK to initialize the bias terms to 0?\n",
    "\n",
    "Ans-2 No Is it not OK to initialize the bias terms to 0 because if bias is zero then on forward and backward propogation neuron will become dead "
   ]
  },
  {
   "cell_type": "code",
   "execution_count": null,
   "id": "e8d20a6e",
   "metadata": {},
   "outputs": [],
   "source": [
    "3. Name three advantages of the SELU activation function over ReLU.\n",
    "\n",
    "Ans-3 three advantages of the SELU activation function over ReLU are :-\n",
    "    \n",
    "1. Like ReLU, SELU does not have vanishing gradient problem and hence, is used in deep neural networks.\n",
    "\n",
    "2. Compared to ReLUs, SELUs cannot die.\n",
    "\n",
    "3. SELUs learn faster and better than other activation functions without needing further procession."
   ]
  },
  {
   "cell_type": "code",
   "execution_count": null,
   "id": "465edfc9",
   "metadata": {},
   "outputs": [],
   "source": [
    "4. In which cases would you want to use each of the following activation functions: SELU, leaky\n",
    "ReLU (and its variants), ReLU, tanh, logistic, and softmax?\n",
    "\n",
    "Ans-4 The SELU activation function is a good default.\n",
    "\n",
    "-If you need the neural network to be as fast as possible, you can use one of the leaky ReLU variants instead (e.g., a simple leaky ReLU using the default hyperparameter value).\n",
    "\n",
    "-simplicity of the ReLU activation function makes it many people’s preferred option, despite the fact that it is generally outperformed by SELU and leaky ReLU. However, the ReLU activation function’s ability to output precisely zero can be useful in some cases (e.g., see Chapter 17). Moreover, it can sometimes benefit from optimized implementation as well as from hardware acceleration.\n",
    "\n",
    "-hyperbolic tangent (tanh) can be useful in the output layer if you need to output a number between –1 and 1, but nowadays it is not used much in hidden layers (except in recurrent nets).\n",
    "\n",
    "-logistic activation function is also useful in the output layer when you need to estimate a probability (e.g., for binary classification),rare in hidden layer"
   ]
  },
  {
   "cell_type": "code",
   "execution_count": null,
   "id": "423a9a7c",
   "metadata": {},
   "outputs": [],
   "source": [
    "5. What may happen if you set the momentum hyperparameter too close to 1 (e.g., 0.99999)\n",
    "when using an SGD optimizer?\n",
    "\n",
    "Ans-5 If you set the momentum hyperparameter too close to 1 (e.g., 0.99999) when using an SGD optimizer, then the algorithm will likely pick up a lot of speed, hopefully moving roughly toward the global minimum, but its momentum will carry it right past the minimum. Then it will slow down and come back, accelerate again, overshoot again, and so on. It may oscillate this way many times before converging, so overall it will take much longer to converge than with a smaller momentum value."
   ]
  },
  {
   "cell_type": "code",
   "execution_count": null,
   "id": "788e824c",
   "metadata": {},
   "outputs": [],
   "source": [
    "6. Name three ways you can produce a sparse model.\n",
    "\n",
    "Ans-6 -One way to produce a sparse model (i.e., with most weights equal to zero) is to train the model normally, then zero out tiny weights.\n",
    "\n",
    "-For more sparsity, you can apply ℓ1 regularization during training, which pushes the optimizer toward sparsity.\n",
    "\n",
    "-A third option is to use the TensorFlow Model Optimization Toolkit."
   ]
  },
  {
   "cell_type": "code",
   "execution_count": null,
   "id": "959faf79",
   "metadata": {},
   "outputs": [],
   "source": [
    "7. Does dropout slow down training? Does it slow down inference (i.e., making predictions on\n",
    "new instances)? What about MC Dropout?\n",
    "\n",
    "Ans-7 Yes, dropout does slow down training, in general roughly by a factor of two. However, it has no impact on inference speed since it is only turned on during training. MC Dropout is exactly like dropout during training, but it is still active during inference, so each inference is slowed down slightly. More importantly, when using MC Dropout you generally want to run inference 10 times or more to get better predictions. This means that making predictions is slowed down by a factor of 10 or more."
   ]
  },
  {
   "cell_type": "code",
   "execution_count": null,
   "id": "56532eea",
   "metadata": {},
   "outputs": [],
   "source": []
  },
  {
   "cell_type": "code",
   "execution_count": null,
   "id": "597d5335",
   "metadata": {},
   "outputs": [],
   "source": []
  },
  {
   "cell_type": "code",
   "execution_count": null,
   "id": "1babb0f6",
   "metadata": {},
   "outputs": [],
   "source": []
  },
  {
   "cell_type": "code",
   "execution_count": null,
   "id": "52bc2fa7",
   "metadata": {},
   "outputs": [],
   "source": []
  }
 ],
 "metadata": {
  "kernelspec": {
   "display_name": "Python 3 (ipykernel)",
   "language": "python",
   "name": "python3"
  },
  "language_info": {
   "codemirror_mode": {
    "name": "ipython",
    "version": 3
   },
   "file_extension": ".py",
   "mimetype": "text/x-python",
   "name": "python",
   "nbconvert_exporter": "python",
   "pygments_lexer": "ipython3",
   "version": "3.9.12"
  }
 },
 "nbformat": 4,
 "nbformat_minor": 5
}
