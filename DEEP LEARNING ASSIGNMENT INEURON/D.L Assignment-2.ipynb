{
 "cells": [
  {
   "cell_type": "code",
   "execution_count": null,
   "id": "435b2c10",
   "metadata": {},
   "outputs": [],
   "source": [
    "1. Describe the structure of an artificial neuron. How is it similar to a biological neuron? What\n",
    "are its main components?\n",
    "\n",
    "Ans-1 ANN is made of three layers namely input layer, output layer, and hidden layer/s. There must be a connection from the nodes in the input layer with the nodes in the hidden layer and from each hidden layer node with the nodes of the output layer.\n",
    "here are three main components: an input later, a processing layer, and an output layer. The inputs may be weighted based on various criteria"
   ]
  },
  {
   "cell_type": "code",
   "execution_count": null,
   "id": "2e33b186",
   "metadata": {},
   "outputs": [],
   "source": [
    "2. What are the different types of activation functions popularly used? Explain each of them.\n",
    "\n",
    "Ans-2 Types of Activation Functions\n",
    "\n",
    "1. Sigmoid Function- In an ANN, the sigmoid function is a non-linear AF used primarily in feedforward neural networks. It is a differentiable real function, defined for real input values, and containing positive derivatives everywhere with a specific degree of smoothness. The sigmoid function appears in the output layer of the deep learning models and is used for predicting probability-based outputs. \n",
    "\n",
    "2. Hyperbolic Tangent Function (Tanh)- The hyperbolic tangent function, a.k.a., the tanh function, is another type of AF. It is a smoother, zero-centered function having a range between -1 to 1. \n",
    "\n",
    "3. Softmax Function - The softmax function is another type of AF used in neural networks to compute probability distribution from a vector of real numbers. This function generates an output that ranges between values 0 and 1 and with the sum of the probabilities being equal to 1. \n",
    "\n",
    "4. Softsign Function - The softsign function is another AF that is used in neural network computing. Although it is primarily in regression computation problems, nowadays it is also used in DL based text-to-speech applications.\n",
    "\n",
    "5. Exponential Linear Units (ELUs) Function- The exponential linear units (ELUs) function is an AF that is also used to speed up the training of neural networks (just like ReLU function). The biggest advantage of the ELU function is that it can eliminate the vanishing gradient problem by using identity for positive values and by improving the learning characteristics of the model."
   ]
  },
  {
   "cell_type": "code",
   "execution_count": null,
   "id": "1c9f788e",
   "metadata": {},
   "outputs": [],
   "source": [
    "3. What is artificial neural network (ANN)? Explain some of the salient highlights in the\n",
    "different architectural options for ANN.\n",
    "\n",
    "Ans-3 An Artificial Neural Network (ANN) is an information processing paradigm that is inspired by the brain. ANNs, like people, learn by examples. \n",
    "An ANN is configured for a specific application, such as pattern recognition or data classification, through a learning process.\n",
    "\n",
    "Some salient features of ANN are :-\n",
    "\n",
    "- It has the ability to learn , recall and generalize from the given data by suitable assignment and adjustment of weights. \n",
    "- The collective behavior of the neurons describes its computational power, and no single neuron carries specific information ."
   ]
  },
  {
   "cell_type": "code",
   "execution_count": null,
   "id": "f1dd9cff",
   "metadata": {},
   "outputs": [],
   "source": [
    "4. Explain the learning process of an ANN. Explain, with example, the challenge in assigning\n",
    "synaptic weights for the interconnection between neurons? How can this challenge be\n",
    "addressed?\n",
    "\n",
    "Ans-4 Learning, in artificial neural network, is the method of modifying the weights of connections between the neurons of a specified network. \n",
    "Learning in ANN can be classified into three categories namely supervised learning, unsupervised learning, and reinforcement learning."
   ]
  },
  {
   "cell_type": "code",
   "execution_count": null,
   "id": "9ef481c2",
   "metadata": {},
   "outputs": [],
   "source": [
    "5. Explain, in details, the backpropagation algorithm. What are the limitations of this\n",
    "algorithm?\n",
    "\n",
    "Ans-5 Backpropagation is an algorithm that backpropagates the errors from the output nodes to the input nodes. \n",
    "Therefore, it is simply referred to as the backward propagation of errors. \n",
    "It uses in the vast applications of neural networks in data mining like Character recognition, Signature verification, etc.\n",
    "\n",
    "\n",
    "Limitations are :-\n",
    "1. It is slow, all previous layers are locked until gradients for the current layer is calculated.\n",
    "2. It suffers from vanishing or exploding gradients problem."
   ]
  },
  {
   "cell_type": "code",
   "execution_count": null,
   "id": "253c41cc",
   "metadata": {},
   "outputs": [],
   "source": [
    "6. Describe, in details, the process of adjusting the interconnection weights in a multi-layer\n",
    "neural network.\n",
    "\n",
    "Ans-6 Learning, in artificial neural network, is the method of modifying the weights of connections between the neurons of a specified network. Learning in ANN can be classified into three categories namely supervised learning, unsupervised learning, and reinforcement learning."
   ]
  },
  {
   "cell_type": "code",
   "execution_count": null,
   "id": "8a3da2eb",
   "metadata": {},
   "outputs": [],
   "source": [
    "7. What are the steps in the backpropagation algorithm? Why a multi-layer neural network is\n",
    "required?\n",
    "\n",
    "Ans-7 Steps in back propogation are :-\n",
    "1.We first initialized some random value to ‘W’ and propagated forward.\n",
    "2.Then, we noticed that there is some error. To reduce that error, we propagated backwards and increased the value of ‘W’.\n",
    "3.After that, also we noticed that the error has increased. We came to know that, we can’t increase the ‘W’ value. \n",
    "4.So, we again propagated backwards and we decreased ‘W’ value.\n",
    "5.Now, we noticed that the error has reduced.\n",
    "\n",
    "Multi Layer neural network is required to capture more and more complex features of the data"
   ]
  },
  {
   "cell_type": "code",
   "execution_count": null,
   "id": "86d570bd",
   "metadata": {},
   "outputs": [],
   "source": [
    "8. Write short notes on:\n",
    "\n",
    "1. Artificial neuron- An artificial neuron is a connection point in an artificial neural network. Artificial neural networks, like the human body biological neural network, have a layered architecture and each network node (connection point) has the capability to process input and forward output to other nodes in the network.\n",
    "\n",
    "2. Multi-layer perceptron- Multi layer perceptron (MLP) is a supplement of feed forward neural network. It consists of three types of layers—the input layer, output layer and hidden layer,\n",
    "\n",
    "3. Deep learning- Deep learning is a subset of machine learning, which is essentially a neural network with three or more layers.\n",
    "\n",
    "4. Learning rate- It is a rate by which learning of model takes place\n",
    "\n"
   ]
  },
  {
   "cell_type": "code",
   "execution_count": null,
   "id": "c6420f90",
   "metadata": {},
   "outputs": [],
   "source": []
  }
 ],
 "metadata": {
  "kernelspec": {
   "display_name": "Python 3 (ipykernel)",
   "language": "python",
   "name": "python3"
  },
  "language_info": {
   "codemirror_mode": {
    "name": "ipython",
    "version": 3
   },
   "file_extension": ".py",
   "mimetype": "text/x-python",
   "name": "python",
   "nbconvert_exporter": "python",
   "pygments_lexer": "ipython3",
   "version": "3.9.12"
  }
 },
 "nbformat": 4,
 "nbformat_minor": 5
}
