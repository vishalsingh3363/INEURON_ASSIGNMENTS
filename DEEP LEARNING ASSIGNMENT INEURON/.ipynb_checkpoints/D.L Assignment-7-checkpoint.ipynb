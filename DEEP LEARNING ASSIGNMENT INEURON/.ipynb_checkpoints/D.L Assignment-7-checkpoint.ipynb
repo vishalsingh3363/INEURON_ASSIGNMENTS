{
 "cells": [
  {
   "cell_type": "code",
   "execution_count": null,
   "id": "a40f49a4",
   "metadata": {},
   "outputs": [],
   "source": [
    "1. Can you think of a few applications for a sequence-to-sequence RNN? What about a\n",
    "sequence-to-vector RNN, and a vector-to-sequence RNN?\n",
    "\n",
    "Ans-1 In Sequence to Sequence Learning, RNN is trained to map an input sequence to an output sequence which is not necessarily of the same length. \n",
    "Applications are speech recognition, machine translation, image captioning and question answering.\n",
    "\n",
    "Sequence To Vector RNN\n",
    "The RNN model, which takes a sequence as input and outputs a single vector, produces a single vector. One of their example is sentence prediction.\n",
    "\n",
    "The RNN model takes a single vector as input and produces a sequence as output. An example of these models can be image to sentence model, which takes an image(consider it as a vector) and then produces a sentence to describe that image."
   ]
  },
  {
   "cell_type": "code",
   "execution_count": null,
   "id": "5c4f1a4f",
   "metadata": {},
   "outputs": [],
   "source": [
    "2. How many dimensions must the inputs of an RNN layer have? What does each dimension\n",
    "represent? What about its outputs?\n",
    "\n",
    "Ans-2 Three.\n",
    "\n",
    "First is the size of the batch.\n",
    "\n",
    "Second is the size of the number of time steps.\n",
    "\n",
    "Third holds the inputs at each time step.\n",
    "\n",
    "(For instance if you want to process a batch containg 5 time series of 10 time steps each with 2 values per time step, the shape will be [5, 10, 2]). The same is true of its outputs, but the last dimension is equal to the number of neurons."
   ]
  },
  {
   "cell_type": "code",
   "execution_count": null,
   "id": "1fd6ff08",
   "metadata": {},
   "outputs": [],
   "source": [
    "3. If you want to build a deep sequence-to-sequence RNN, which RNN layers should\n",
    "have return_sequences=True? What about a sequence-to-vector RNN?\n",
    "\n",
    "Ans-3 All layers."
   ]
  },
  {
   "cell_type": "code",
   "execution_count": null,
   "id": "c29e50da",
   "metadata": {},
   "outputs": [],
   "source": [
    "4. Suppose you have a daily univariate time series, and you want to forecast the next seven\n",
    "days. Which RNN architecture should you use?\n",
    "\n",
    "Ans-4 A stack of RNNs with return_sequences=True at every layer except the top. You can then have seven neurons in the output."
   ]
  },
  {
   "cell_type": "code",
   "execution_count": null,
   "id": "75b401b8",
   "metadata": {},
   "outputs": [],
   "source": [
    "5. What are the main difficulties when training RNNs? How can you handle them?\n",
    "\n",
    "Ans-5 Unstable gradients and limited short-term memory.\n",
    "\n",
    "To solve the gradients, use a slower learning rate and a saturating activation function like hyperbolic tangent with gradient clipping. To solve the memory, use LSTM or GRU Layers"
   ]
  },
  {
   "cell_type": "code",
   "execution_count": null,
   "id": "e557ee3c",
   "metadata": {},
   "outputs": [],
   "source": [
    "6. Can you sketch the LSTM cell’s architecture?\n",
    "\n",
    "Ans-6 Firstly, at a basic level, the output of an LSTM at a particular point in time is dependant on three things:\n",
    "▹ The current long-term memory of the network — known as the cell state\n",
    "▹ The output at the previous point in time — known as the previous hidden state\n",
    "▹ The input data at the current time step"
   ]
  },
  {
   "cell_type": "code",
   "execution_count": null,
   "id": "8c978f80",
   "metadata": {},
   "outputs": [],
   "source": [
    "7. Why would you want to use 1D convolutional layers in an RNN?\n",
    "\n",
    "Ans-7 Good for parallelization. Also, since not recurrent, it suffers less from exploding or vanishing gradients."
   ]
  },
  {
   "cell_type": "code",
   "execution_count": null,
   "id": "8beb2b78",
   "metadata": {},
   "outputs": [],
   "source": [
    "8. Which neural network architecture could you use to classify videos?\n",
    "\n",
    "Asn-8 Could take one frame per second for the RNN input, or a Seq-to-vector model."
   ]
  },
  {
   "cell_type": "code",
   "execution_count": null,
   "id": "eec98328",
   "metadata": {},
   "outputs": [],
   "source": []
  },
  {
   "cell_type": "code",
   "execution_count": null,
   "id": "b9222bda",
   "metadata": {},
   "outputs": [],
   "source": []
  },
  {
   "cell_type": "code",
   "execution_count": null,
   "id": "a0467f15",
   "metadata": {},
   "outputs": [],
   "source": []
  }
 ],
 "metadata": {
  "kernelspec": {
   "display_name": "Python 3 (ipykernel)",
   "language": "python",
   "name": "python3"
  },
  "language_info": {
   "codemirror_mode": {
    "name": "ipython",
    "version": 3
   },
   "file_extension": ".py",
   "mimetype": "text/x-python",
   "name": "python",
   "nbconvert_exporter": "python",
   "pygments_lexer": "ipython3",
   "version": "3.9.12"
  }
 },
 "nbformat": 4,
 "nbformat_minor": 5
}
