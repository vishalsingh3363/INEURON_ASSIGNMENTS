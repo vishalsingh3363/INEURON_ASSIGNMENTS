{
 "cells": [
  {
   "cell_type": "code",
   "execution_count": null,
   "id": "e60fd443",
   "metadata": {},
   "outputs": [],
   "source": [
    "1. What is the function of a summation junction of a neuron? What is threshold activation\n",
    "function?\n",
    "\n",
    "Ans-1 The main function of a summation junction is to combines the various input activations into a single activation.\n",
    "A threshold activation function decides whether a neuron should be activated or not by calculating the weighted sum and further adding bias to it."
   ]
  },
  {
   "cell_type": "code",
   "execution_count": null,
   "id": "9e901b17",
   "metadata": {},
   "outputs": [],
   "source": [
    "2. What is a step function? What is the difference of step function with threshold function?\n",
    "\n",
    "Ans-2 Step function is an activation function which is not differentiable. \n",
    "A threshold function determines whether a neuron should be activated or not activated. \n",
    "The step function compares the input value to a threshold value. \n",
    "If the input value is greater than the threshold value, the neuron is activated."
   ]
  },
  {
   "cell_type": "code",
   "execution_count": null,
   "id": "970f56c2",
   "metadata": {},
   "outputs": [],
   "source": [
    "3. Explain the McCulloch–Pitts model of neuron.\n",
    "\n",
    "Ans-3 The McCulloch–Pitt neural network is considered to be the first neural network. The neurons are connected by directed weighted paths. \n",
    "McCulloch–Pitt neuron allows binary activation (1 ON or 0 OFF), "
   ]
  },
  {
   "cell_type": "code",
   "execution_count": null,
   "id": "5d669ebb",
   "metadata": {},
   "outputs": [],
   "source": [
    "4. Explain the ADALINE network model.\n",
    "\n",
    "Ans-4 Adaline is a single-unit neuron, which receives input from several units and also from one unit, called bias. \n",
    "An Adeline model consists of trainable weights. The inputs are of two values (+1 or -1) and the weights have signs"
   ]
  },
  {
   "cell_type": "code",
   "execution_count": null,
   "id": "6e01dcf1",
   "metadata": {},
   "outputs": [],
   "source": [
    "5. What is the constraint of a simple perceptron? Why it may fail with a real-world data set?\n",
    "\n",
    "Ans-5 The constraint of simple perceptron is that it can only be used to classify the linearly separable sets of input vectors. \n",
    "It may fail with real worl data because if provided input vectors are non-linear, it is not easy to classify them correctly."
   ]
  },
  {
   "cell_type": "code",
   "execution_count": null,
   "id": "51446604",
   "metadata": {},
   "outputs": [],
   "source": [
    "6. What is linearly inseparable problem? What is the role of the hidden layer?\n",
    "\n",
    "Ans-6 Linearly inseparable means the data which can not be seperated by a linear line. \n",
    "Hidden layers capture more and more complexity with every layer by discovering relationships between features in the input"
   ]
  },
  {
   "cell_type": "code",
   "execution_count": null,
   "id": "17a4139c",
   "metadata": {},
   "outputs": [],
   "source": [
    "7. Explain XOR problem in case of a simple perceptron.\n",
    "\n",
    "Ans-7 The XOr problem is that we need to build a Neural Network (a perceptron in our case) to produce the truth table related to the XOr logical operator."
   ]
  },
  {
   "cell_type": "code",
   "execution_count": null,
   "id": "efac9ab9",
   "metadata": {},
   "outputs": [],
   "source": [
    "8. Design a multi-layer perceptron to implement A XOR B.\n",
    "\n",
    "Ans-8"
   ]
  },
  {
   "cell_type": "code",
   "execution_count": null,
   "id": "37997330",
   "metadata": {},
   "outputs": [],
   "source": [
    "9. Explain the single-layer feed forward architecture of ANN.\n",
    "\n",
    "Ans-9 The input layer is connected to the output layer nodes with weights. All the input nodes are connected to each of the output nodes. \n",
    "The term feed-forward depicts that there is no feedback sent from the output layer to the input layer. "
   ]
  },
  {
   "cell_type": "code",
   "execution_count": null,
   "id": "5200e51e",
   "metadata": {},
   "outputs": [],
   "source": [
    "10. Explain the competitive network architecture of ANN.\n",
    "\n",
    "Ans-10 ANN is made of three layers namely input layer, output layer, and hidden layers. \n",
    "There must be a connection from the nodes in the input layer with the nodes in the hidden layer and from each hidden layer node with the nodes of the output layer."
   ]
  },
  {
   "cell_type": "code",
   "execution_count": null,
   "id": "f9af5a87",
   "metadata": {},
   "outputs": [],
   "source": [
    "11. Consider a multi-layer feed forward neural network. Enumerate and explain steps in the backpropagation algorithm used to train the network.\n",
    "\n",
    "Ans-11 \n",
    "Steps in back propogation are :-\n",
    "    1.We first initialized some random value to ‘W’ and propagated forward.\n",
    "    2.Then, we noticed that there is some error. To reduce that error, we propagated backwards and increased the value of ‘W’.\n",
    "    3.After that, also we noticed that the error has increased. We came to know that, we can’t increase the ‘W’ value. \n",
    "    4.So, we again propagated backwards and we decreased ‘W’ value.\n",
    "    5.Now, we noticed that the error has reduced."
   ]
  },
  {
   "cell_type": "code",
   "execution_count": null,
   "id": "e60a534b",
   "metadata": {},
   "outputs": [],
   "source": [
    "12. What are the advantages and disadvantages of neural networks?\n",
    "\n",
    "Ans-12 The advantages of the neural network are as follows −\n",
    "1. A neural network can implement tasks that a linear program cannot.\n",
    "2. When an item of the neural network declines, it can continue without some issues by its parallel features.\n",
    "3. A neural network determines and does not require to be reprogrammed.\n",
    "4. It can be executed in any application\n",
    "\n",
    "\n",
    "The disadvantages of the neural network are as follows −\n",
    "1 The neural network required training to operate.\n",
    "2. The structure of a neural network is disparate from the structure of microprocessors therefore required to be emulated.\n",
    "3. It needed high processing time for big neural networks."
   ]
  },
  {
   "cell_type": "code",
   "execution_count": null,
   "id": "009de692",
   "metadata": {},
   "outputs": [],
   "source": [
    "13. Write short notes on any two of the following:\n",
    "\n",
    "1. Biological neuron-  biological neurons are individual cells, each composed of the main body of the cell along with many tendrils that extend from that body.\n",
    "\n",
    "2. ReLU function- A rectified linear unit (ReLU) is an activation function that introduces the property of non-linearity to a deep learning model and solves the vanishing gradients issue. \n",
    "It interprets the positive part of its argument. It is one of the most popular activation functions in deep learning. \n",
    "\n",
    "3. Single-layer feed forward ANN- The feedforward neural network was the first and simplest type of artificial neural network devised. In this network, the information moves in only one direction—forward—from the input nodes, through the hidden nodes (if any) and to the output nodes.\n",
    "\n",
    "4. Gradient descent- Gradient descent is an optimization algorithm which is commonly-used to train machine learning models and neural networks.\n",
    "\n",
    "5. Recurrent networks- A recurrent neural network (RNN) is a type of artificial neural network which uses sequential data or time series data. \n"
   ]
  },
  {
   "cell_type": "code",
   "execution_count": null,
   "id": "6bc3aa52",
   "metadata": {},
   "outputs": [],
   "source": []
  }
 ],
 "metadata": {
  "kernelspec": {
   "display_name": "Python 3 (ipykernel)",
   "language": "python",
   "name": "python3"
  },
  "language_info": {
   "codemirror_mode": {
    "name": "ipython",
    "version": 3
   },
   "file_extension": ".py",
   "mimetype": "text/x-python",
   "name": "python",
   "nbconvert_exporter": "python",
   "pygments_lexer": "ipython3",
   "version": "3.9.12"
  }
 },
 "nbformat": 4,
 "nbformat_minor": 5
}
