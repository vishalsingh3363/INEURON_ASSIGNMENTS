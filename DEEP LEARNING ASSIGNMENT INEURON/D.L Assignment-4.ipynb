{
 "cells": [
  {
   "cell_type": "code",
   "execution_count": null,
   "id": "4c9cef59",
   "metadata": {},
   "outputs": [],
   "source": [
    "1. How would you describe TensorFlow in a short sentence? What are its main features? Can\n",
    "you name other popular Deep Learning libraries?\n",
    "\n",
    "Ans-1 TensorFlow is an open-source library developed by Google primarily for deep learning applications.\n",
    "Some of the key features of TensorFlow are: Efficiently works with mathematical expressions involving multi-dimensional arrays. Good support of deep neural networks and machine learning concepts."
   ]
  },
  {
   "cell_type": "code",
   "execution_count": null,
   "id": "be2fc2d5",
   "metadata": {},
   "outputs": [],
   "source": [
    "2. Is TensorFlow a drop-in replacement for NumPy? What are the main differences between\n",
    "the two?\n",
    "\n",
    "Ans-2 \n",
    "NumPy is a Python library for working with large arrays of numerical data, while TensorFlow is a library for working with computational graphs and machine learning models.\n"
   ]
  },
  {
   "cell_type": "code",
   "execution_count": null,
   "id": "af0ee672",
   "metadata": {},
   "outputs": [],
   "source": [
    "3. Do you get the same result with tf.range(10) and tf.constant(np.arange(10))?\n",
    "\n",
    "Ans-3 "
   ]
  },
  {
   "cell_type": "code",
   "execution_count": null,
   "id": "2462449d",
   "metadata": {},
   "outputs": [],
   "source": [
    "4. Can you name six other data structures available in TensorFlow, beyond regular tensors?\n",
    "\n",
    "Ans-4 "
   ]
  },
  {
   "cell_type": "code",
   "execution_count": null,
   "id": "19b33528",
   "metadata": {},
   "outputs": [],
   "source": [
    "5. A custom loss function can be defined by writing a function or by subclassing\n",
    "the keras.losses.Loss class. When would you use each option?\n",
    "\n",
    "Ans-5 A custom loss function can be created by defining a function that takes the true values and predicted values as required parameters. \n",
    "The function should return an array of losses. The function can then be passed at the compile stage"
   ]
  },
  {
   "cell_type": "code",
   "execution_count": null,
   "id": "711ac00e",
   "metadata": {},
   "outputs": [],
   "source": [
    "6. Similarly, a custom metric can be defined in a function or a subclass of keras.metrics.Metric.\n",
    "When would you use each option?\n",
    "\n",
    "Ans-6 "
   ]
  },
  {
   "cell_type": "code",
   "execution_count": null,
   "id": "910249fa",
   "metadata": {},
   "outputs": [],
   "source": [
    "7. When should you create a custom layer versus a custom model?\n"
   ]
  },
  {
   "cell_type": "code",
   "execution_count": null,
   "id": "8c34e35f",
   "metadata": {},
   "outputs": [],
   "source": [
    "8. What are some use cases that require writing your own custom training loop?\n"
   ]
  },
  {
   "cell_type": "code",
   "execution_count": null,
   "id": "10165c9b",
   "metadata": {},
   "outputs": [],
   "source": [
    "9. Can custom Keras components contain arbitrary Python code, or must they be convertible to\n",
    "TF Functions?\n"
   ]
  },
  {
   "cell_type": "code",
   "execution_count": null,
   "id": "4f944c79",
   "metadata": {},
   "outputs": [],
   "source": [
    "10. What are the main rules to respect if you want a function to be convertible to a TF Function?\n"
   ]
  },
  {
   "cell_type": "code",
   "execution_count": null,
   "id": "f1d3e521",
   "metadata": {},
   "outputs": [],
   "source": [
    "11. When would you need to create a dynamic Keras model? How do you do that? Why not\n",
    "make all your models dynamic?\n"
   ]
  }
 ],
 "metadata": {
  "kernelspec": {
   "display_name": "Python 3 (ipykernel)",
   "language": "python",
   "name": "python3"
  },
  "language_info": {
   "codemirror_mode": {
    "name": "ipython",
    "version": 3
   },
   "file_extension": ".py",
   "mimetype": "text/x-python",
   "name": "python",
   "nbconvert_exporter": "python",
   "pygments_lexer": "ipython3",
   "version": "3.9.12"
  }
 },
 "nbformat": 4,
 "nbformat_minor": 5
}
